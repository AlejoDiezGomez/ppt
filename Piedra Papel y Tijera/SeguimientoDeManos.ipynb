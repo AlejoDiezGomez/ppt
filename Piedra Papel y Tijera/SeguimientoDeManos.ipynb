{
 "cells": [
  {
   "cell_type": "code",
   "execution_count": null,
   "metadata": {},
   "outputs": [],
   "source": [
    "# Importamos las librerias \n",
    "import math \n",
    "import cv2 \n",
    "import mediapipe as np \n",
    "import time \n"
   ]
  }
 ],
 "metadata": {
  "language_info": {
   "name": "python"
  }
 },
 "nbformat": 4,
 "nbformat_minor": 2
}
