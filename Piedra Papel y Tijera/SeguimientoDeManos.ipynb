{
 "cells": [
  {
   "cell_type": "code",
   "execution_count": 1,
   "metadata": {},
   "outputs": [],
   "source": [
    "# Importamos las librerias \n",
    "import math \n",
    "import cv2 \n",
    "import mediapipe as mp \n",
    "import time \n"
   ]
  },
  {
   "cell_type": "code",
   "execution_count": 2,
   "metadata": {},
   "outputs": [],
   "source": [
    "#---------- creamos una clase ------\n",
    "class detectormanos():\n",
    "    #-----inicializamos los parametros de la funcion ---  \n",
    "    def __init__(self, mode= False, maxManos=2, model_complexity=1, Confdeteccion=0.5, Confsegui = 0.5):\n",
    "        self.mode = mode \n",
    "        self.maxManos = maxManos\n",
    "        self.compl = model_complexity\n",
    "        self.Confdeteccion = Confdeteccion\n",
    "        self.Confsegui = Confsegui\n",
    "    #---- creamos los objetos que detectaran las manos y las dibujaran \n",
    "        self.mpmanos = mp.solutions.hands\n",
    "        self.manos = self.mpmanos.Hands(self.mode, self.maxManos, self.compl, self.Confdeteccion, self.Confsegui)\n",
    "        self.dibujo = mp.solutions.drawing_utils\n",
    "        self.tip=[4,8,16,20]\n",
    "#----------Funcion para encontrar las manos -----------------\n",
    "    def encontrarmanos (self, frame, dibujar = True):\n",
    "        imgcolor = cv2.cvtColor(frame , cv2.COLOR_BGR2RGB)\n",
    "        self.resultados = self.manos.process(imgcolor)\n",
    "\n",
    "        if self.resultados.multi_hand_landmarks:\n",
    "            for mano in self.resultados.multi_hand_landmarks:\n",
    "                if  dibujar : \n",
    "                    self.dibujo.draw_landmarks(frame, mano, self.mpmanos.HAND_CONNECTIONS)\n",
    "        return frame \n",
    "#----------- Funcion para encontrar la posicion --------\n",
    "       \n",
    "class detectormanos_():\n",
    "    def encontrarposi(self, frame , ManoNum = 0 , dibujar = True, color = [] ): \n",
    "        xlista=[]\n",
    "        ylista=[]\n",
    "        bbox=[]\n",
    "        player = 0 \n",
    "        self.lista = []\n",
    "        if self.resultados.multi_hand_landmarks:\n",
    "            miMano = self.resultados.multi_hand_landmarks[ManoNum]\n",
    "            prueba = self.resultados.multi_hand_landmarks\n",
    "            player = len(prueba)\n",
    "            #printplayer \n",
    "            for id, lm in enumerate(miMano.landmark):\n",
    "                alto, ancho , c = frame.shape \n",
    "                cx, cy = int (lm.x * ancho ) , int (lm.y * alto )\n",
    "                xlista.append(cx)\n",
    "                ylista.append(cy)\n",
    "                self.lista.append([id, cx, cy])\n",
    "                if dibujar :\n",
    "                    cv2.circle(frame,(cx, cy), 3,(0, 0, 0), cv2.FILLED)\n",
    "    \n",
    "        xmin, xmax = min(xlista), max(xlista)\n",
    "        ymin, ymax = min(ylista), max(ylista)\n",
    "        bbox = xmin, ymin, xmax, ymax\n",
    "        if dibujar:\n",
    "            cv2.rectangle(frame,(xmin - 20 , ymin -20), (xmax - 20 , ymax -20 ), color , 2)\n",
    "            return self.lista, bbox, player  \n"
   ]
  }
 ],
 "metadata": {
  "kernelspec": {
   "display_name": "Python 3",
   "language": "python",
   "name": "python3"
  },
  "language_info": {
   "codemirror_mode": {
    "name": "ipython",
    "version": 3
   },
   "file_extension": ".py",
   "mimetype": "text/x-python",
   "name": "python",
   "nbconvert_exporter": "python",
   "pygments_lexer": "ipython3",
   "version": "3.8.10"
  }
 },
 "nbformat": 4,
 "nbformat_minor": 2
}
