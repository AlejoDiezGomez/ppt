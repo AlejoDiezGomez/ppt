{
 "cells": [
  {
   "cell_type": "code",
   "execution_count": 4,
   "metadata": {},
   "outputs": [],
   "source": [
    "# importamos librerias \n",
    "import cv2\n",
    "import random \n",
    "import SeguimientoDeManos as sm \n",
    "import os \n",
    "import imutils "
   ]
  },
  {
   "cell_type": "code",
   "execution_count": 6,
   "metadata": {},
   "outputs": [
    {
     "ename": "FileNotFoundError",
     "evalue": "[WinError 3] El sistema no puede encontrar la ruta especificada: ''",
     "output_type": "error",
     "traceback": [
      "\u001b[1;31m---------------------------------------------------------------------------\u001b[0m",
      "\u001b[1;31mFileNotFoundError\u001b[0m                         Traceback (most recent call last)",
      "\u001b[1;32mc:\\Users\\alejo\\OneDrive\\Escritorio\\Piedra Papel y Tijera\\ppt.ipynb Cell 2\u001b[0m line \u001b[0;36m2\n\u001b[0;32m     <a href='vscode-notebook-cell:/c%3A/Users/alejo/OneDrive/Escritorio/Piedra%20Papel%20y%20Tijera/ppt.ipynb#W1sZmlsZQ%3D%3D?line=17'>18</a>\u001b[0m imagenes \u001b[39m=\u001b[39m []\n\u001b[0;32m     <a href='vscode-notebook-cell:/c%3A/Users/alejo/OneDrive/Escritorio/Piedra%20Papel%20y%20Tijera/ppt.ipynb#W1sZmlsZQ%3D%3D?line=18'>19</a>\u001b[0m clases \u001b[39m=\u001b[39m []\n\u001b[1;32m---> <a href='vscode-notebook-cell:/c%3A/Users/alejo/OneDrive/Escritorio/Piedra%20Papel%20y%20Tijera/ppt.ipynb#W1sZmlsZQ%3D%3D?line=19'>20</a>\u001b[0m lista\u001b[39m=\u001b[39m os\u001b[39m.\u001b[39;49mlistdir(path)\n\u001b[0;32m     <a href='vscode-notebook-cell:/c%3A/Users/alejo/OneDrive/Escritorio/Piedra%20Papel%20y%20Tijera/ppt.ipynb#W1sZmlsZQ%3D%3D?line=21'>22</a>\u001b[0m \u001b[39mfor\u001b[39;00m lis \u001b[39min\u001b[39;00m \u001b[39mlist\u001b[39m:\n\u001b[0;32m     <a href='vscode-notebook-cell:/c%3A/Users/alejo/OneDrive/Escritorio/Piedra%20Papel%20y%20Tijera/ppt.ipynb#W1sZmlsZQ%3D%3D?line=22'>23</a>\u001b[0m     \u001b[39m# Leemos las image\u001b[39;00m\n\u001b[0;32m     <a href='vscode-notebook-cell:/c%3A/Users/alejo/OneDrive/Escritorio/Piedra%20Papel%20y%20Tijera/ppt.ipynb#W1sZmlsZQ%3D%3D?line=23'>24</a>\u001b[0m     imgdb\u001b[39m=\u001b[39m cv2\u001b[39m.\u001b[39mimread(\u001b[39mf\u001b[39m\u001b[39m'\u001b[39m\u001b[39m{\u001b[39;00mpath\u001b[39m}\u001b[39;00m\u001b[39m/\u001b[39m\u001b[39m{\u001b[39;00m\u001b[39mlist\u001b[39m\u001b[39m}\u001b[39;00m\u001b[39m'\u001b[39m)\n",
      "\u001b[1;31mFileNotFoundError\u001b[0m: [WinError 3] El sistema no puede encontrar la ruta especificada: ''"
     ]
    }
   ],
   "source": [
    "# Declaracion de variables\n",
    "\n",
    "fs = False\n",
    "fu = False \n",
    "fd = False \n",
    "fj = False\n",
    "fr = False\n",
    "fgia = False\n",
    "fgus = False\n",
    "femp = False\n",
    "fder = False\n",
    "fizq = False\n",
    "conteo = 0\n",
    "\n",
    "# Accedemos a la carpeta \n",
    "\n",
    "path = ''\n",
    "imagenes = []\n",
    "clases = []\n",
    "lista= os.listdir(path)\n",
    "\n",
    "for lis in list:\n",
    "    # Leemos las image\n",
    "    imgdb= cv2.imread(f'{path}/{list}')\n",
    "    # Almacenamos imagen\n",
    "    images.append(imgdb)\n",
    "    # Almacenamos nombre \n",
    "    clases.append(os.path.splitext(lis)[0])\n",
    "\n",
    "print(len(images)) \n",
    "\n",
    "#Lectura de la camara\n",
    "\n",
    "cap = cv2.VideoCapture(1)\n",
    "\n",
    "#Declaramos el detector \n",
    "\n",
    "detector = sm.detectormanos(Confdeteccion=0.9)\n",
    "\n",
    "while True:\n",
    "    #Vamos a detectar los puntos de la mano\n",
    "    \n",
    "\n"
   ]
  },
  {
   "cell_type": "code",
   "execution_count": 5,
   "metadata": {},
   "outputs": [],
   "source": []
  }
 ],
 "metadata": {
  "kernelspec": {
   "display_name": "Python 3",
   "language": "python",
   "name": "python3"
  },
  "language_info": {
   "codemirror_mode": {
    "name": "ipython",
    "version": 3
   },
   "file_extension": ".py",
   "mimetype": "text/x-python",
   "name": "python",
   "nbconvert_exporter": "python",
   "pygments_lexer": "ipython3",
   "version": "3.8.10"
  }
 },
 "nbformat": 4,
 "nbformat_minor": 2
}
